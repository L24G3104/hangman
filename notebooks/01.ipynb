{
  "cells": [
    {
      "cell_type": "markdown",
      "source": [
        "# 第1回 オンラインジャッジを活用しよう"
      ],
      "metadata": {
        "id": "dxVDVWY7U-ol"
      },
      "id": "dxVDVWY7U-ol"
    },
    {
      "cell_type": "markdown",
      "source": [],
      "metadata": {
        "id": "nD84336GU-ot"
      },
      "id": "nD84336GU-ot"
    },
    {
      "cell_type": "markdown",
      "source": [
        "## 前提知識"
      ],
      "metadata": {
        "id": "mCCG7ctEU-ot"
      },
      "id": "mCCG7ctEU-ot"
    },
    {
      "cell_type": "markdown",
      "source": [
        "\n",
        "Pythonの基本\n",
        "\n",
        "-   アルソフ『独学プログラマー』（日経BP, 2018）の第1部と第2部\n",
        "\n",
        "基礎を固めるために，次のサイトの問題を解けるようにしておくとよいだろう。（4月中くらい？）\n",
        "\n",
        "| タイトル                                                                                                    | 確認                                                                 | メモ        |\n",
        "|-------------------------------------------------------------------------------------------------------------|----------------------------------------------------------------------|-------------|\n",
        "| [AIZU ONLINE JUDGEのITP1](https://onlinejudge.u-aizu.ac.jp/courses/lesson/2/ITP1/all)                       | [\\# All](https://onlinejudge.u-aizu.ac.jp/courses/lesson/2/ITP1/all) | ♠トピック11 |\n",
        "| [Python入門 AtCoder Programming Guide for beginners (APG4bPython)](https://atcoder.jp/contests/APG4bPython) | [得点状況](https://atcoder.jp/contests/APG4bPython/score)            |             |"
      ],
      "metadata": {
        "id": "-Nh5ZSRrU-ou"
      },
      "id": "-Nh5ZSRrU-ou"
    },
    {
      "cell_type": "markdown",
      "source": [
        "## 受講環境"
      ],
      "metadata": {
        "id": "fBYg0TtdU-ov"
      },
      "id": "fBYg0TtdU-ov"
    },
    {
      "cell_type": "markdown",
      "source": [
        "\n",
        "-   ウェブブラウザとキーボード\n",
        "-   紙とペン"
      ],
      "metadata": {
        "id": "tGsA81-XU-ow"
      },
      "id": "tGsA81-XU-ow"
    },
    {
      "cell_type": "markdown",
      "source": [
        "## 必要なアカウント"
      ],
      "metadata": {
        "id": "gTIF4XWeU-ox"
      },
      "id": "gTIF4XWeU-ox"
    },
    {
      "cell_type": "markdown",
      "source": [
        "\n",
        "-   Google Colab （大学のGmailのアカウント）\n",
        "-   https://onlinejudge.u-aizu.ac.jp\n",
        "-   https://atcoder.jp"
      ],
      "metadata": {
        "id": "4QWuDFcZU-ox"
      },
      "id": "4QWuDFcZU-ox"
    },
    {
      "cell_type": "markdown",
      "source": [
        "## 内容"
      ],
      "metadata": {
        "id": "WQf_byQgU-oy"
      },
      "id": "WQf_byQgU-oy"
    },
    {
      "cell_type": "markdown",
      "source": [
        "\n",
        "AIで置き換えやすい順\n",
        "\n",
        "1.  プログラミングテクニック\n",
        "2.  定番のデータ構造とアルゴリズム\n",
        "3.  問題解決能力\n",
        "    1.  現実世界を**観察**する。\n",
        "    2.  解けそうな問題を**発見**する。\n",
        "    3.  コンピュータで解ける形に**整理**する。\n",
        "    4.  **効率**のよいプログラム，あるいは効率のよいプログラムを生成する**プロンプト**を書く。\n",
        "    5.  プログラムの正しさを確認する。\n",
        "    6.  結果について**考察**する。\n",
        "4.  コンピュータについての理解\n",
        "5.  「習得への情熱」\n",
        "\n",
        "やらないこと\n",
        "\n",
        "-   競プロの本番の問題：高校数学に例えれば，解きたいのは教科書の練習問題であって，大学入試問題ではない。\n",
        "-   特定の分野で使われるデータ構造とアルゴリズム（データサイエンス，機械学習，幾何学，数値計算，暗号，パズルなど）"
      ],
      "metadata": {
        "id": "xVKkMAauU-oy"
      },
      "id": "xVKkMAauU-oy"
    },
    {
      "cell_type": "markdown",
      "source": [
        "### プログラミング言語"
      ],
      "metadata": {
        "id": "bHc1Vv_hU-oy"
      },
      "id": "bHc1Vv_hU-oy"
    },
    {
      "cell_type": "markdown",
      "source": [
        "\n",
        "-   Python\n",
        "-   C言語やC++は？\n",
        "-   アセンブリ言語は？\n",
        "\n",
        "競プロでは，C言語やC++には，パフォーマンス上のメリットがある。\n",
        "\n",
        "独学する場合は，[C++入門 AtCoder Programming Guide for beginners\n",
        "(APG4b)](https://atcoder.jp/contests/APG4b)をやれば十分だが，そこで扱われるのはC++のごく一部であることに注意してほしい。矢吹太朗『C++の教科書』（日経BP,\n",
        "2017）と比較してみよ。\n",
        "\n",
        "<img src=\"https://ndlsearch.ndl.go.jp/thumbnail/9784822298937.jpg\" width=\"100\"/>"
      ],
      "metadata": {
        "id": "LfRsa0j2U-oz"
      },
      "id": "LfRsa0j2U-oz"
    },
    {
      "cell_type": "markdown",
      "source": [
        "### オンラインジャッジ"
      ],
      "metadata": {
        "id": "UpmIapozU-oz"
      },
      "id": "UpmIapozU-oz"
    },
    {
      "cell_type": "markdown",
      "source": [
        "\n",
        "[APG4bPython\n",
        "EX5](https://atcoder.jp/contests/APG4bPython/tasks/APG4bPython_cr)を例に，講義内で説明する。"
      ],
      "metadata": {
        "id": "LPbdhBWVU-oz"
      },
      "id": "LPbdhBWVU-oz"
    },
    {
      "cell_type": "markdown",
      "source": [
        "#### オンラインジャッジ（や競プロ）で心配なこと"
      ],
      "metadata": {
        "id": "A1AyFSWmU-o0"
      },
      "id": "A1AyFSWmU-o0"
    },
    {
      "cell_type": "markdown",
      "source": [
        "\n",
        "-   明確な問題が提示されるが，現実にはそういうことは稀である。\n",
        "-   オンラインジャッジにパスして満足しがち。\n",
        "    -   真：正しいプログラムはテストにパスする。\n",
        "    -   真：テストにパスしないプログラムは間違っている。\n",
        "    -   偽：テストにパスするプログラムは正しい。\n",
        "    -   偽：間違ったプログラムはテストをパスしない。\n",
        "-   （最善を尽くしても）何時間もかかるような問題の経験を積めない。\n",
        "-   問題に特化したプログラムで満足しがち。（例：データ構造の実体を1個しか作れない。）"
      ],
      "metadata": {
        "id": "MtIJboqQU-o0"
      },
      "id": "MtIJboqQU-o0"
    },
    {
      "cell_type": "markdown",
      "source": [
        "### 問題への取り組み方"
      ],
      "metadata": {
        "id": "dlbDnbEpU-o0"
      },
      "id": "dlbDnbEpU-o0"
    },
    {
      "cell_type": "markdown",
      "source": [
        "\n",
        "自分に向いたものを選ぶ。一つに限定する必要はない。\n",
        "\n",
        "-   ~~問題をそのままAIに与えて解く。~~（効果に疑問あり）\n",
        "-   データ構造やアルゴリズムのライブラリを使う。（最初のゴール）\n",
        "-   データ構造やアルゴリズムのライブラリに頼らずに，それらを自分で作る。\n",
        "-   データ構造やアルゴリズムのライブラリに頼らずに，それらをAIで作る。\n",
        "-   ~~教科書のコード（C言語やC++）をそのまま入力して解く。~~（効果に疑問あり）\n",
        "-   教科書のコードを自分でPythonに翻訳して解く。\n",
        "-   教科書のコードをAIでPythonに翻訳して解く。"
      ],
      "metadata": {
        "id": "AMtb-AtCU-o0"
      },
      "id": "AMtb-AtCU-o0"
    },
    {
      "cell_type": "markdown",
      "source": [
        "## 教科書・参考書"
      ],
      "metadata": {
        "id": "NqsGJxkiU-o0"
      },
      "id": "NqsGJxkiU-o0"
    },
    {
      "cell_type": "markdown",
      "source": [
        "\n",
        "英語の教科書は，そのPDFが公開されている場合がある。日本語で読みたい場合は，[PDFMathTranslate](https://github.com/Byaidu/PDFMathTranslate/blob/main/docs/README_ja-JP.md)で翻訳するとよいだろう。"
      ],
      "metadata": {
        "id": "d7yENH5zU-o1"
      },
      "id": "d7yENH5zU-o1"
    },
    {
      "cell_type": "markdown",
      "source": [
        "### 教科書"
      ],
      "metadata": {
        "id": "IaiUEaCCU-o1"
      },
      "id": "IaiUEaCCU-o1"
    },
    {
      "cell_type": "markdown",
      "source": [
        "\n",
        "<img src=\"https://ndlsearch.ndl.go.jp/thumbnail/9784839952952.jpg\" width=\"100\"/>\n",
        "**渡部有隆『プログラミングコンテスト攻略のためのアルゴリズムとデータ構造』（マイナビ出版,\n",
        "2015）（C，C++，オンラインジャッジ。「文字列のアルゴリズム」は扱われていない。）**\n",
        "\n",
        "-   千葉工大図書館（紙）\n",
        "-   千葉工大図書館（オンライン）　同時アクセス可能1人。60ページまで印刷できる。\n",
        "-   紙（新品あるいは古書）　自分のものになる（後輩にあげられる）。\n",
        "-   電子書籍　読む権利を購入するだけ。\n",
        "-   PDF　Google\n",
        "    NotebookLMなどのAIに入力して質問するのに便利（例：「2.2節のAlgorithm\n",
        "    1をPythonで実装して」）\n",
        "\n",
        "メモ\n",
        "\n",
        "-   競プロの本番の問題を扱わないのに競プロの本を使うのは，オンラインジャッジを使いたいからである。\n",
        "-   ♠教科書ではC言語やC++が使われている。それをPythonに翻訳する場合に，変数や関数の名前がPythonの（[PEP\n",
        "    8](https://peps.python.org/pep-0008/)）に反する危険がある。例えば，関数名`insertionSort`は，Pythonでは`insertion_sort`とするのが一般的である。しかし，これはあくまで「規約」であるため，この講義では教科書の名前をそのまま使うことにする。そのほかにも，Pythonの規約に従わないことはあるだろう（インデントとか）。"
      ],
      "metadata": {
        "id": "D_Dzo-jwU-o1"
      },
      "id": "D_Dzo-jwU-o1"
    },
    {
      "cell_type": "markdown",
      "source": [
        "### 参考書"
      ],
      "metadata": {
        "id": "6aRDlIGhU-o1"
      },
      "id": "6aRDlIGhU-o1"
    },
    {
      "cell_type": "markdown",
      "source": [],
      "metadata": {
        "id": "bTrnsAQpU-o1"
      },
      "id": "bTrnsAQpU-o1"
    },
    {
      "cell_type": "markdown",
      "source": [
        "#### 伝統的"
      ],
      "metadata": {
        "id": "AzCBPfXBU-o2"
      },
      "id": "AzCBPfXBU-o2"
    },
    {
      "cell_type": "markdown",
      "source": [
        "\n",
        "-   <img src=\"https://ndlsearch.ndl.go.jp/thumbnail/9784798172439.jpg\" width=\"100\"/>\n",
        "    石田保輝ほか『アルゴリズム図鑑』（翔泳社, 増補改訂版,\n",
        "    2023）　アプリもある（一部有料。AppleとGoogleで価格が異なるかもしれない）。\n",
        "-   <img src=\"https://ndlsearch.ndl.go.jp/thumbnail/9784065128442.jpg\" width=\"100\"/>\n",
        "    大槻兼資『問題解決力を鍛える！アルゴリズムとデータ構造』（講談社,\n",
        "    2020）（C++）　競プロ本番の問題が題材になっている。\n",
        "-   <img src=\"https://images-fe.ssl-images-amazon.com/images/P/4797304952.09.LZZZZZZZ\" width=\"100\"/>\n",
        "    近藤嘉雪『定本Cプログラマのためのアルゴリズムとデータ構造』（ソフトバンク,\n",
        "    1998）　（C言語。「グラフのアルゴリズム」は扱われていない。）\n",
        "-   <img src=\"https://ndlsearch.ndl.go.jp/thumbnail/9784000103435.jpg\" width=\"100\"/>\n",
        "    石畑清『アルゴリズムとデータ構造』（岩波書店,\n",
        "    1989）（Pascal，C，Lisp）\n",
        "-   <img src=\"https://ndlsearch.ndl.go.jp/thumbnail/9784764906495.jpg\" width=\"100\"/>\n",
        "    コルメンほか『アルゴリズムイントロダクション』（近代科学社, 第4版,\n",
        "    2024）（擬似コード。[サポートサイト](https://mitpress.mit.edu/9780262046305/introduction-to-algorithms/)にPythonのコード）\n",
        "    **CLRS**と略されるが，この講義ではコルメンということもある。\n",
        "-   クヌース『The Art of Computer\n",
        "    Programming』（KADOKAWA）（擬似コード）　Knuth（1938-）による教科書。全7巻（12章）の予定で，第4巻（4A，4B，4C）の4Bまで刊行されている。**TAOCP**と略されるが（[Oは大文字](https://www-cs-faculty.stanford.edu/~knuth/taocp.html)），この講義ではクヌースということもある。\n",
        "\n",
        "<img src=\"https://images-fe.ssl-images-amazon.com/images/P/4048694022.09.LZZZZZZZ\" width=\"100\"/>\n",
        "<img src=\"https://images-fe.ssl-images-amazon.com/images/P/4756147127.09.LZZZZZZZ\" width=\"100\"/>\n",
        "<img src=\"https://images-fe.ssl-images-amazon.com/images/P/4048694162.09.LZZZZZZZ\" width=\"100\"/>\n",
        "<img src=\"https://images-fe.ssl-images-amazon.com/images/P/4048694316.09.LZZZZZZZ\" width=\"100\"/>\n",
        "<img src=\"https://images-fe.ssl-images-amazon.com/images/P/4048930559.09.LZZZZZZZ\" width=\"100\"/>\n",
        "<img src=\"https://images-fe.ssl-images-amazon.com/images/P/4048931148.09.LZZZZZZZ\" width=\"100\"/>\n",
        "\n",
        "> 私の本のどの5ページを取っても誰かの一生涯分の研究になっているということです。（Peter\n",
        "> Seibel『Coders at Work』の第15章「ドナルド・クヌース」）\n",
        "\n",
        "<img src=\"https://ndlsearch.ndl.go.jp/thumbnail/9784274068478.jpg\" width=\"100\"/>"
      ],
      "metadata": {
        "id": "WgMJgxcYU-o2"
      },
      "id": "WgMJgxcYU-o2"
    },
    {
      "cell_type": "markdown",
      "source": [
        "#### 競技プログラミング特化"
      ],
      "metadata": {
        "id": "yi_fz5vZU-o2"
      },
      "id": "yi_fz5vZU-o2"
    },
    {
      "cell_type": "markdown",
      "source": [
        "\n",
        "-   <img src=\"https://ndlsearch.ndl.go.jp/thumbnail/9784839977504.jpg\" width=\"100\"/>\n",
        "    米田優峻『競技プログラミングの鉄則』（マイナビ出版,\n",
        "    2022）（**オンラインジャッジ**，C++・Python・Java）\n",
        "-   <img src=\"https://ndlsearch.ndl.go.jp/thumbnail/9784839972776.jpg\" width=\"100\"/>\n",
        "    岩下真也ほか『アルゴリズム実技検定公式テキスト　エントリー～中級編』（マイナビ出版,\n",
        "    2021）（**オンラインジャッジ**，Python）"
      ],
      "metadata": {
        "id": "bwOXuld6U-o2"
      },
      "id": "bwOXuld6U-o2"
    },
    {
      "cell_type": "markdown",
      "source": [
        "#### その他"
      ],
      "metadata": {
        "id": "OkcXYo6kU-o2"
      },
      "id": "OkcXYo6kU-o2"
    },
    {
      "cell_type": "markdown",
      "source": [
        "\n",
        "-   <img src=\"https://ndlsearch.ndl.go.jp/thumbnail/9784023323421.jpg\" width=\"100\"/>\n",
        "    井上真偽『引きこもり姉ちゃんのアルゴリズム推理』（朝日新聞出版,\n",
        "    2024）\n",
        "-   <img src=\"https://images-fe.ssl-images-amazon.com/images/P/4774196908.09.LZZZZZZZ\" width=\"100\"/>\n",
        "    奥村晴彦『C言語による標準アルゴリズム事典』（技術評論社, 改訂新版,\n",
        "    2018）（C言語）\n",
        "-   <img src=\"https://ndlsearch.ndl.go.jp/thumbnail/9784621309032.jpg\" width=\"100\"/><img src=\"https://ndlsearch.ndl.go.jp/thumbnail/9784621309049.jpg\" width=\"100\"/>\n",
        "    Skiena, S. Steven『アルゴリズム設計マニュアル　上・下』（丸善出版,\n",
        "    2024）（C言語）[サポートサイト](https://www.algorist.com/)\n",
        "-   <img src=\"https://images-fe.ssl-images-amazon.com/images/P/4894712369.09.LZZZZZZZ\" width=\"100\"/>\n",
        "    ベントリー『珠玉のプログラミング』（桐原書店, 2000）（丸善出版,\n",
        "    2014）（C++）\n",
        "-   <img src=\"https://ndlsearch.ndl.go.jp/thumbnail/9784320122178.jpg\" width=\"100\"/>\n",
        "    Kleinberg, Eva Tardos『アルゴリズムデザイン』（共立出版, 2008）"
      ],
      "metadata": {
        "id": "VWWjfWcbU-o3"
      },
      "id": "VWWjfWcbU-o3"
    },
    {
      "cell_type": "markdown",
      "source": [
        "## プログラムの実行"
      ],
      "metadata": {
        "id": "FdEYdidLU-o3"
      },
      "id": "FdEYdidLU-o3"
    },
    {
      "cell_type": "markdown",
      "source": [
        "\n",
        "通常，プログラムで使うデータは，プログラム中には書かずに，実行時に入力する。\n",
        "\n",
        "簡単な例として，入力された整数を3倍した結果を出力するプログラムを作って実行する。**入力されるのは文字列だから`int()`で整数に変換する。**"
      ],
      "metadata": {
        "id": "LWtzpBaqU-o4"
      },
      "id": "LWtzpBaqU-o4"
    },
    {
      "cell_type": "code",
      "execution_count": 1,
      "metadata": {
        "id": "31GeOx72U-o4",
        "outputId": "2c29bc5d-c223-4b9b-c1cc-c4658fc47c8f",
        "colab": {
          "base_uri": "https://localhost:8080/"
        }
      },
      "outputs": [
        {
          "output_type": "stream",
          "name": "stdout",
          "text": [
            "9\n",
            "27\n"
          ]
        }
      ],
      "source": [
        "a = int(input())\n",
        "print(a * 3)"
      ],
      "id": "31GeOx72U-o4"
    },
    {
      "cell_type": "markdown",
      "source": [
        "Shift+Enterで実行すると入力用のプロンプトが現れるから，そこに整数を入力すると，その3倍が出力される。\n",
        "\n",
        "しかし，この方法は，入力が1回だけの場合にはよいが，何度も入力する場合には面倒である。この問題を解決する方法を二つ紹介する。\n",
        "\n",
        "-   AtCodeerのコードテスト\n",
        "-   Google Colab"
      ],
      "metadata": {
        "id": "vqItzwU5U-o8"
      },
      "id": "vqItzwU5U-o8"
    },
    {
      "cell_type": "markdown",
      "source": [
        "### AtCoderのコードテスト"
      ],
      "metadata": {
        "id": "5bzJplAMU-o8"
      },
      "id": "5bzJplAMU-o8"
    },
    {
      "cell_type": "markdown",
      "source": [
        "\n",
        "第1回の講義では試さなくてもよい（AtCoderのアカウントが必要）。\n",
        "\n",
        "[AtCodeerのコードテスト](https://atcoder.jp/contests/APG4bPython/custom_test)は，ブラウザ上でコードとデータを入力するだけで，そのコードにデータを入力して実行できる環境である。手軽だが，入力データが複数あるときは使いにくい。\n",
        "\n",
        "使い方\n",
        "\n",
        "1.  **言語**はPython (CPython 3.XX)，または，Python (PyPy 3.XX)を選ぶ。\n",
        "2.  **ソースコード**にコードを入力する。\n",
        "3.  **標準入力**に入力データを入力する。\n",
        "4.  **実行ボタン**を押す。\n",
        "\n",
        "♠Pythonの標準の実装（CPython）の代わりにPyPyを使うと速くなることがある。ただし，ライブラリが対応しない場合もあるから，この講義ではあまり使わない。"
      ],
      "metadata": {
        "id": "QTUOpS4hU-o8"
      },
      "id": "QTUOpS4hU-o8"
    },
    {
      "cell_type": "markdown",
      "source": [
        "### Google Colab"
      ],
      "metadata": {
        "id": "bvw71HAEU-o9"
      },
      "id": "bvw71HAEU-o9"
    },
    {
      "cell_type": "markdown",
      "source": [
        "\n",
        "入力データをテキストファイルに書いておいて，実行時にそのファイルのデータを入力する。\n",
        "\n",
        "まず，上のPythonのコードをファイルcalc.pyに保存する。"
      ],
      "metadata": {
        "id": "nMs8jufDU-o9"
      },
      "id": "nMs8jufDU-o9"
    },
    {
      "cell_type": "code",
      "execution_count": 27,
      "metadata": {
        "id": "ScJKsUaqU-o9",
        "outputId": "d019eb89-0130-4839-d846-40d727e40710",
        "colab": {
          "base_uri": "https://localhost:8080/"
        }
      },
      "outputs": [
        {
          "output_type": "stream",
          "name": "stdout",
          "text": [
            "Overwriting calc.py\n"
          ]
        }
      ],
      "source": [
        "%%writefile calc.py\n",
        "a = int(input())\n",
        "print(a * 3)"
      ],
      "id": "ScJKsUaqU-o9"
    },
    {
      "cell_type": "markdown",
      "source": [
        "次に，入力データをinput.datに保存する。"
      ],
      "metadata": {
        "id": "Lz0tKuGwU-pL"
      },
      "id": "Lz0tKuGwU-pL"
    },
    {
      "cell_type": "code",
      "execution_count": 3,
      "metadata": {
        "id": "nQD_xhoAU-pM",
        "outputId": "e8375465-d5d6-4b3b-b0dc-c52496adfed8",
        "colab": {
          "base_uri": "https://localhost:8080/"
        }
      },
      "outputs": [
        {
          "output_type": "stream",
          "name": "stdout",
          "text": [
            "Writing input.dat\n"
          ]
        }
      ],
      "source": [
        "%%writefile input.dat\n",
        "100"
      ],
      "id": "nQD_xhoAU-pM"
    },
    {
      "cell_type": "markdown",
      "source": [
        "calc.pyのコードにinput.datのデータを与えて実行する。"
      ],
      "metadata": {
        "id": "UrF50e_pU-pM"
      },
      "id": "UrF50e_pU-pM"
    },
    {
      "cell_type": "code",
      "execution_count": 4,
      "metadata": {
        "id": "azrW8BcRU-pN",
        "outputId": "d47c968b-35c2-429b-a7c2-101db5748a89",
        "colab": {
          "base_uri": "https://localhost:8080/"
        }
      },
      "outputs": [
        {
          "output_type": "stream",
          "name": "stdout",
          "text": [
            "300\n"
          ]
        }
      ],
      "source": [
        "!python3 calc.py < input.dat"
      ],
      "id": "azrW8BcRU-pN"
    },
    {
      "cell_type": "markdown",
      "source": [
        "♠PyPyを使う場合は次のとおり。事前に「`!apt-get install -y pypy3`」としてインストールしておく必要がある。"
      ],
      "metadata": {
        "id": "Tqj5xDArU-pN"
      },
      "id": "Tqj5xDArU-pN"
    },
    {
      "cell_type": "code",
      "execution_count": 5,
      "metadata": {
        "id": "tt_f5i9SU-pN",
        "outputId": "c6de05b5-12da-4ded-9bb5-05f15e7680eb",
        "colab": {
          "base_uri": "https://localhost:8080/"
        }
      },
      "outputs": [
        {
          "output_type": "stream",
          "name": "stdout",
          "text": [
            "/bin/bash: line 1: pypy3: command not found\n"
          ]
        }
      ],
      "source": [
        "!pypy3 calc.py < input.dat"
      ],
      "id": "tt_f5i9SU-pN"
    },
    {
      "cell_type": "markdown",
      "source": [
        "## 頻出パターン"
      ],
      "metadata": {
        "id": "86To5LtZU-pO"
      },
      "id": "86To5LtZU-pO"
    },
    {
      "cell_type": "markdown",
      "source": [],
      "metadata": {
        "id": "I0slupTuU-pO"
      },
      "id": "I0slupTuU-pO"
    },
    {
      "cell_type": "markdown",
      "source": [
        "### Google Colab"
      ],
      "metadata": {
        "id": "8TGo6J6mU-pO"
      },
      "id": "8TGo6J6mU-pO"
    },
    {
      "cell_type": "markdown",
      "source": [
        "\n",
        "シェルコマンド（先頭に「`!`」）"
      ],
      "metadata": {
        "id": "mBaTMdmpU-pO"
      },
      "id": "mBaTMdmpU-pO"
    },
    {
      "cell_type": "code",
      "execution_count": 6,
      "metadata": {
        "id": "lnMfQzcUU-pO",
        "outputId": "3826d783-7892-40ad-ab69-bb0b9c3ac912",
        "colab": {
          "base_uri": "https://localhost:8080/"
        }
      },
      "outputs": [
        {
          "output_type": "stream",
          "name": "stdout",
          "text": [
            "calc.py  input.dat  sample_data\n"
          ]
        }
      ],
      "source": [
        "!ls"
      ],
      "id": "lnMfQzcUU-pO"
    },
    {
      "cell_type": "markdown",
      "source": [
        "セルの実行時間を計る。"
      ],
      "metadata": {
        "id": "8-VGEFRlU-pP"
      },
      "id": "8-VGEFRlU-pP"
    },
    {
      "cell_type": "code",
      "execution_count": 7,
      "metadata": {
        "id": "B3qRP-cSU-pP",
        "outputId": "74605860-b15b-4d79-fd38-5332cf2f7cfe",
        "colab": {
          "base_uri": "https://localhost:8080/"
        }
      },
      "outputs": [
        {
          "output_type": "stream",
          "name": "stdout",
          "text": [
            "CPU times: user 3 µs, sys: 1e+03 ns, total: 4 µs\n",
            "Wall time: 7.15 µs\n"
          ]
        }
      ],
      "source": [
        "%%time\n",
        "# ここにコードを書く。"
      ],
      "id": "B3qRP-cSU-pP"
    },
    {
      "cell_type": "markdown",
      "source": [
        "♠[ローカルランタイム](https://research.google.com/colaboratory/local-runtimes.html?hl=ja)を使うには，自分のPCで次を実行する。\n",
        "\n",
        "    docker run --rm -p 127.0.0.1:9000:8080 asia-docker.pkg.dev/colab-images/public/runtime"
      ],
      "metadata": {
        "id": "Y0FaASL_U-pP"
      },
      "id": "Y0FaASL_U-pP"
    },
    {
      "cell_type": "markdown",
      "source": [
        "### Python"
      ],
      "metadata": {
        "id": "wnVDcyzfU-pQ"
      },
      "id": "wnVDcyzfU-pQ"
    },
    {
      "cell_type": "markdown",
      "source": [
        "\n",
        "文字列を空白で分割する。"
      ],
      "metadata": {
        "id": "kaTEvauOU-pQ"
      },
      "id": "kaTEvauOU-pQ"
    },
    {
      "cell_type": "code",
      "execution_count": 8,
      "metadata": {
        "id": "9pTsJepwU-pQ",
        "outputId": "56a04d13-3c15-4a06-b3a6-83fd9ec6df21",
        "colab": {
          "base_uri": "https://localhost:8080/"
        }
      },
      "outputs": [
        {
          "output_type": "stream",
          "name": "stdout",
          "text": [
            "['30', '10', '40']\n"
          ]
        }
      ],
      "source": [
        "print(\"30 10 40\".split())"
      ],
      "id": "9pTsJepwU-pQ"
    },
    {
      "cell_type": "markdown",
      "source": [
        "数字列を整数に変換する。"
      ],
      "metadata": {
        "id": "rdmvCpBUU-pQ"
      },
      "id": "rdmvCpBUU-pQ"
    },
    {
      "cell_type": "code",
      "execution_count": 9,
      "metadata": {
        "id": "OjCNwcmBU-pR",
        "outputId": "48b07023-9899-4239-ccb4-36243b578ba3",
        "colab": {
          "base_uri": "https://localhost:8080/"
        }
      },
      "outputs": [
        {
          "output_type": "stream",
          "name": "stdout",
          "text": [
            "123\n"
          ]
        }
      ],
      "source": [
        "print(int(\"123\"))"
      ],
      "id": "OjCNwcmBU-pR"
    },
    {
      "cell_type": "markdown",
      "source": [
        "数字列のリストを整数のリストに変換する。"
      ],
      "metadata": {
        "id": "oH_EYf3CU-pR"
      },
      "id": "oH_EYf3CU-pR"
    },
    {
      "cell_type": "code",
      "execution_count": 10,
      "metadata": {
        "id": "xbrNxSw4U-pR",
        "outputId": "0e808770-cce4-48a7-98af-0d6b276f9403",
        "colab": {
          "base_uri": "https://localhost:8080/"
        }
      },
      "outputs": [
        {
          "output_type": "stream",
          "name": "stdout",
          "text": [
            "[30, 10, 40]\n"
          ]
        }
      ],
      "source": [
        "print(list(map(int, \"30 10 40\".split())))"
      ],
      "id": "xbrNxSw4U-pR"
    },
    {
      "cell_type": "markdown",
      "source": [
        "二つの変数の値を交換する。"
      ],
      "metadata": {
        "id": "sSoRlMs5U-pS"
      },
      "id": "sSoRlMs5U-pS"
    },
    {
      "cell_type": "code",
      "execution_count": 11,
      "metadata": {
        "id": "ss2nBTccU-pS",
        "outputId": "b5ada10b-5096-4bf0-8ed9-54968db3e53c",
        "colab": {
          "base_uri": "https://localhost:8080/"
        }
      },
      "outputs": [
        {
          "output_type": "stream",
          "name": "stdout",
          "text": [
            "4 3\n"
          ]
        }
      ],
      "source": [
        "a, b = 3, 4\n",
        "a, b = b, a\n",
        "print(a, b)"
      ],
      "id": "ss2nBTccU-pS"
    },
    {
      "cell_type": "markdown",
      "source": [
        "2～3個の整数の入力を，別々の変数に格納する。"
      ],
      "metadata": {
        "id": "tKth3zqFU-pS"
      },
      "id": "tKth3zqFU-pS"
    },
    {
      "cell_type": "code",
      "execution_count": 19,
      "metadata": {
        "id": "0BhD2Km1U-pS",
        "outputId": "6e605b4d-00fc-4859-ddf6-bab8cc5f4166",
        "colab": {
          "base_uri": "https://localhost:8080/"
        }
      },
      "outputs": [
        {
          "output_type": "stream",
          "name": "stdout",
          "text": [
            "3 3\n",
            "3 3\n"
          ]
        }
      ],
      "source": [
        "\n",
        "a, b = map(int, input().split())\n",
        "print(a, b)"
      ],
      "id": "0BhD2Km1U-pS"
    },
    {
      "cell_type": "code",
      "execution_count": 20,
      "metadata": {
        "id": "AzA7YEXcU-pT",
        "outputId": "78dc38cc-5967-4a10-f9f5-bda8d19b5f8e",
        "colab": {
          "base_uri": "https://localhost:8080/"
        }
      },
      "outputs": [
        {
          "output_type": "stream",
          "name": "stdout",
          "text": [
            "5 6 7\n",
            "5 6 7\n"
          ]
        }
      ],
      "source": [
        "a, b, c = map(int, input().split())\n",
        "print(a, b, c)"
      ],
      "id": "AzA7YEXcU-pT"
    },
    {
      "cell_type": "markdown",
      "source": [
        "スペース区切りのn個の整数の入力を，リストに格納する。"
      ],
      "metadata": {
        "id": "MzZ4Cl9pU-pT"
      },
      "id": "MzZ4Cl9pU-pT"
    },
    {
      "cell_type": "code",
      "execution_count": 21,
      "metadata": {
        "id": "10uNtpPoU-pT",
        "outputId": "fc963f90-8c5d-4e83-c030-b45d18303122",
        "colab": {
          "base_uri": "https://localhost:8080/"
        }
      },
      "outputs": [
        {
          "output_type": "stream",
          "name": "stdout",
          "text": [
            "1\n",
            "[1]\n"
          ]
        }
      ],
      "source": [
        "a = list(map(int, input().split()))\n",
        "print(a)"
      ],
      "id": "10uNtpPoU-pT"
    },
    {
      "cell_type": "markdown",
      "source": [
        "n行でn個の入力を，リストに格納する。"
      ],
      "metadata": {
        "id": "JvhB24GeU-pT"
      },
      "id": "JvhB24GeU-pT"
    },
    {
      "cell_type": "code",
      "execution_count": 25,
      "metadata": {
        "id": "X3iQc1hfU-pU",
        "outputId": "f1ea6147-4a16-4b00-c945-fdde8f92498e",
        "colab": {
          "base_uri": "https://localhost:8080/"
        }
      },
      "outputs": [
        {
          "output_type": "stream",
          "name": "stdout",
          "text": [
            "[]\n"
          ]
        }
      ],
      "source": [
        "import sys\n",
        "a = list(map(int, sys.stdin.read().split()))\n",
        "print(a)"
      ],
      "id": "X3iQc1hfU-pU"
    },
    {
      "cell_type": "markdown",
      "source": [
        "上より遅いが，次のコードの方がわかりやすいかもしれない。"
      ],
      "metadata": {
        "id": "rYoT05GSU-pU"
      },
      "id": "rYoT05GSU-pU"
    },
    {
      "cell_type": "code",
      "execution_count": 24,
      "metadata": {
        "id": "n9Mu79z0U-pU",
        "outputId": "1d8b5178-5aac-485c-b83f-f32e0b31a000",
        "colab": {
          "base_uri": "https://localhost:8080/",
          "height": 163
        }
      },
      "outputs": [
        {
          "output_type": "error",
          "ename": "NameError",
          "evalue": "name 'n' is not defined",
          "traceback": [
            "\u001b[0;31m---------------------------------------------------------------------------\u001b[0m",
            "\u001b[0;31mNameError\u001b[0m                                 Traceback (most recent call last)",
            "\u001b[0;32m<ipython-input-24-24b2636ba778>\u001b[0m in \u001b[0;36m<cell line: 0>\u001b[0;34m()\u001b[0m\n\u001b[0;32m----> 1\u001b[0;31m \u001b[0ma\u001b[0m \u001b[0;34m=\u001b[0m \u001b[0;34m[\u001b[0m\u001b[0mint\u001b[0m\u001b[0;34m(\u001b[0m\u001b[0minput\u001b[0m\u001b[0;34m(\u001b[0m\u001b[0;34m)\u001b[0m\u001b[0;34m)\u001b[0m \u001b[0;32mfor\u001b[0m \u001b[0m_\u001b[0m \u001b[0;32min\u001b[0m \u001b[0mrange\u001b[0m\u001b[0;34m(\u001b[0m\u001b[0mn\u001b[0m\u001b[0;34m)\u001b[0m\u001b[0;34m]\u001b[0m\u001b[0;34m\u001b[0m\u001b[0;34m\u001b[0m\u001b[0m\n\u001b[0m\u001b[1;32m      2\u001b[0m \u001b[0mprint\u001b[0m\u001b[0;34m(\u001b[0m\u001b[0ma\u001b[0m\u001b[0;34m)\u001b[0m\u001b[0;34m\u001b[0m\u001b[0;34m\u001b[0m\u001b[0m\n",
            "\u001b[0;31mNameError\u001b[0m: name 'n' is not defined"
          ]
        }
      ],
      "source": [
        "a = [int(input()) for _ in range(n)]\n",
        "print(a)"
      ],
      "id": "n9Mu79z0U-pU"
    },
    {
      "cell_type": "markdown",
      "source": [
        "2～3個の変数の値を，スペース区切りで出力する。"
      ],
      "metadata": {
        "id": "GrIviCaOU-pU"
      },
      "id": "GrIviCaOU-pU"
    },
    {
      "cell_type": "code",
      "execution_count": 26,
      "metadata": {
        "id": "FYdLogbIU-pV",
        "outputId": "2790ebd1-7ba5-4c6b-e2f7-bbf877103557",
        "colab": {
          "base_uri": "https://localhost:8080/"
        }
      },
      "outputs": [
        {
          "output_type": "stream",
          "name": "stdout",
          "text": [
            "3 4\n"
          ]
        }
      ],
      "source": [
        "a, b = 3, 4\n",
        "print(a, b)"
      ],
      "id": "FYdLogbIU-pV"
    },
    {
      "cell_type": "markdown",
      "source": [
        "リストの要素の値を，スペース区切りで出力する。\n",
        "\n",
        "    a = [1, 2, 3]\n",
        "    print(*a)\n",
        "    print(\" \".join(map(str, a))) # スペース区切り以外にも対応しやすい方法"
      ],
      "metadata": {
        "id": "JsVHUHnPU-pV"
      },
      "id": "JsVHUHnPU-pV"
    },
    {
      "cell_type": "markdown",
      "source": [
        "## 宿題"
      ],
      "metadata": {
        "id": "kMOwmSonU-pV"
      },
      "id": "kMOwmSonU-pV"
    },
    {
      "cell_type": "markdown",
      "source": [
        "\n",
        "1.  次のウェブサイトのアカウントを作る（すでにある場合はそれを使ってよい）。\n",
        "    -   https://onlinejudge.u-aizu.ac.jp\n",
        "    -   https://atcoder.jp\n",
        "2.  以下の問題をAC（Accepted）にする。Pythonを使うこと。\n",
        "    -   [ITP1\\_1\\_A](https://onlinejudge.u-aizu.ac.jp/courses/lesson/2/ITP1/1/ITP1_1_A)\n",
        "        (Hello World)\n",
        "    -   [APG4bPython\n",
        "        A](https://atcoder.jp/contests/APG4bPython/tasks/APG4bPython_a)\n",
        "        (Hello World)\n",
        "    -   [ITP1\\_3\\_A](https://onlinejudge.u-aizu.ac.jp/courses/lesson/2/ITP1/3/ITP1_3_A)\n",
        "        (Print Many Hello World)\n",
        "    -   [ITP1\\_1\\_B](https://onlinejudge.u-aizu.ac.jp/courses/lesson/2/ITP1/1/ITP1_1_B)\n",
        "        (X Cubic)\n",
        "    -   [APG4bPython\n",
        "        EX5](https://atcoder.jp/contests/APG4bPython/tasks/APG4bPython_cr)\n",
        "        (A+B)\n",
        "    -   [ITP1\\_2\\_A](https://onlinejudge.u-aizu.ac.jp/courses/lesson/2/ITP1/2/ITP1_2_A)\n",
        "        (Small, Large, or Equal)\n",
        "    -   [APG4bPython\n",
        "        EX8](https://atcoder.jp/contests/APG4bPython/tasks/APG4bPython_co)\n",
        "        (n A+B)\n",
        "\n",
        "以上"
      ],
      "metadata": {
        "id": "-ysF0TJmU-pV"
      },
      "id": "-ysF0TJmU-pV"
    }
  ],
  "nbformat": 4,
  "nbformat_minor": 5,
  "metadata": {
    "colab": {
      "provenance": []
    },
    "language_info": {
      "name": "python"
    },
    "kernelspec": {
      "name": "python3",
      "display_name": "Python 3"
    }
  }
}